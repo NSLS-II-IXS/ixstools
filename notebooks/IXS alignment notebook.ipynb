{
 "cells": [
  {
   "cell_type": "markdown",
   "metadata": {},
   "source": [
    "# Data reduction for IXS beamline at NSLS-II from data in specfiles\n",
    "\n",
    "This notebook will walk you through all of the steps necessary for reducing the IXS data that comes from specfiles.  We start with raw data from the spec file and end up with aligned curves for:\n",
    "\n",
    "- each detector\n",
    "- all detectors summed in the same scan\n",
    "- like-detectors summed across scans\n",
    "- one final sum of all detectors in all scans\n",
    "\n",
    "All of the plots and data generated in this notebook are saved to disk in the folder \"align_output/scan_num1-scan_num2-scan_num3-...\""
   ]
  },
  {
   "cell_type": "code",
   "execution_count": null,
   "metadata": {
    "collapsed": false
   },
   "outputs": [],
   "source": [
    "import fnmatch\n",
    "import os\n",
    "import yaml\n",
    "import matplotlib\n",
    "import matplotlib.pyplot as plt\n",
    "import pandas as pd\n",
    "import numpy as np\n",
    "from scipy.interpolate import interp1d\n",
    "import tempfile\n",
    "from pprint import pformat, pprint\n",
    "\n",
    "from ixstools.io import Specfile\n",
    "from ixstools.fit import gaussian_fit\n",
    "\n",
    "%matplotlib inline"
   ]
  },
  {
   "cell_type": "markdown",
   "metadata": {},
   "source": [
    "## The next cell is the only place that you should *have* to modify parameters.  \n",
    "\n",
    "After you modify these parameters, you should just be able to click \"Cell -> Run All\"; or if you are paranoid (like me), then you should do \"Kernel -> Restart and Run All\".  After all cells have run, go inspect the figure output!"
   ]
  },
  {
   "cell_type": "code",
   "execution_count": null,
   "metadata": {
    "collapsed": false
   },
   "outputs": [],
   "source": [
    "# The path to the spec file location\n",
    "path_to_specfiles = '../ixstools'\n",
    "# the name of the specific spec file\n",
    "specfile_name = '20160219.spec'\n",
    "# name of the x axis\n",
    "x_name = 'HRM_En'\n",
    "# the name of the detector(s). Respects standard file globbing\n",
    "# valid options are:\n",
    "# match all detectors whose name starts with 'TD'\n",
    "y_names = 'TD*'\n",
    "# use only TD2 detector\n",
    "# y_names = 'TD2'\n",
    "# use only TD2 detector\n",
    "# y_names = ['TD2']\n",
    "# use TD3, TD4, TD5\n",
    "# y_names = ['TD3', 'TD4', 'TD5']\n",
    "# the name of the monitor column\n",
    "monitors = ['SRcur', 'PD11']\n",
    "# the scans that you wish to process\n",
    "scans = [20, 22]\n",
    "# interpolation mode options are\n",
    "# 'linear'\n",
    "# 'nearest'\n",
    "# 'zero'\n",
    "# 'slinear'\n",
    "# 'quadratic\n",
    "# 'cubic'\n",
    "# where 'slinear', 'quadratic' and 'cubic' refer to a spline interpolation\n",
    "# of first, second or third order)\n",
    "interpolation_mode = 'linear'\n",
    "# The multiplicative factor to increase (>1) or decrease (<1) the interpolated\n",
    "# axis\n",
    "densify_interpolated_axis = 1\n",
    "# Folder to write the data (respects relative and absolute paths).\n",
    "# Defaults to 'align_output' folder in current directory\n",
    "output_dir = 'align_output' + os.sep + '-'.join([str(s) for s in scans])\n",
    "# The separator in the output files.\n",
    "# Defaults to space: ' '\n",
    "output_sep = ','\n",
    "# Plot *all* plots with a log scale on the y axis.\n",
    "# Defaults to True\n",
    "logy = True"
   ]
  },
  {
   "cell_type": "code",
   "execution_count": null,
   "metadata": {
    "collapsed": false
   },
   "outputs": [],
   "source": [
    "# Some helpful functions\n",
    "def make_axes(num_axes, fig_width_factor=4, fig_height_factor=4):\n",
    "    \"\"\"Helper function to make a grid of axes with a specific size\n",
    "    \n",
    "    Parameters\n",
    "    ----------\n",
    "    num_axes : int or iterable\n",
    "        int: The **total** number of axes\n",
    "        iterable: (cols, rows)\n",
    "    fig_width_factor : float, optional\n",
    "        The figure width is num_cols * fig_width_factor\n",
    "    fig_height_factor : float, optional\n",
    "        The figure height is num_rows * fig_height_factor\n",
    "    \n",
    "    Returns\n",
    "    -------\n",
    "    fig : mpl.Figure\n",
    "    ax : axes, array of axes or array of array of axes\n",
    "        if num_axes == 1, then this is a single matplotlib axes object\n",
    "        elif num_axes == 2, then this is an array of mpl axes\n",
    "        else this is an array of arrays of mpl axes whose shape is (nrows, ncols)\n",
    "    \"\"\"\n",
    "    try:\n",
    "        ncols, nrows = num_axes\n",
    "    except TypeError:\n",
    "        ncols = nrows = 1\n",
    "        if num_axes >= 2:\n",
    "            ncols = 2\n",
    "            nrows = int(np.ceil(num_axes/ncols))\n",
    "    fig, ax = plt.subplots(nrows=nrows, ncols=ncols, \n",
    "                           figsize=(ncols*fig_width_factor, \n",
    "                                    nrows*fig_height_factor))\n",
    "    try:\n",
    "        ax.ravel()\n",
    "    except AttributeError:\n",
    "        ax = np.asarray([ax])\n",
    "    return fig, ax\n",
    "    "
   ]
  },
  {
   "cell_type": "code",
   "execution_count": null,
   "metadata": {
    "collapsed": true
   },
   "outputs": [],
   "source": [
    "# Please don't mess with these unless you know what you are doing\n",
    "plot_method_name = 'plot'\n",
    "if logy:\n",
    "    plot_method_name = 'semilogy'\n",
    "\n",
    "data_plot_kws = dict(linestyle='', marker='o')\n",
    "\n",
    "translucent_red_marker = dict(\n",
    "    linestyle='None', \n",
    "    markersize=8, \n",
    "    # [r, g, b, alpha]\n",
    "    markerfacecolor=[1, 0, 0, 0.5], \n",
    "    marker='o'\n",
    ")\n",
    "black_fit_line = dict(\n",
    "    marker='',\n",
    "    linewidth=4,\n",
    "    color='k'\n",
    ")"
   ]
  },
  {
   "cell_type": "code",
   "execution_count": null,
   "metadata": {
    "collapsed": false
   },
   "outputs": [],
   "source": [
    "specfile = os.path.join(path_to_specfiles, specfile_name)\n",
    "sf = Specfile(specfile)"
   ]
  },
  {
   "cell_type": "markdown",
   "metadata": {},
   "source": [
    "### Look at the column names of a specific scan with the \"col_names\" attribute on a scan number"
   ]
  },
  {
   "cell_type": "code",
   "execution_count": null,
   "metadata": {
    "collapsed": false
   },
   "outputs": [],
   "source": [
    "sf[19].col_names"
   ]
  },
  {
   "cell_type": "code",
   "execution_count": null,
   "metadata": {
    "collapsed": false
   },
   "outputs": [],
   "source": [
    "# make the output directory\n",
    "os.makedirs(output_dir, exist_ok=True)\n",
    "sf = Specfile(specfile)\n",
    "exposure_time = {sid: np.average(sf[sid].scan_data.Seconds) for sid in scans}\n",
    "metadata = {'exposure time': exposure_time}\n",
    "# get the dataframes that we care about\n",
    "# make sure all the scans have the columns that we care about\n",
    "data = []\n",
    "y_keys = {}\n",
    "for sid in scans:\n",
    "    specscan = sf[sid]\n",
    "    if not set(monitors) < set(specscan.col_names):\n",
    "        raise KeyError(\n",
    "            '{} are the specified monitors and are not a complete subset '\n",
    "            'of the available columns in scan {}. '\n",
    "            'Column names in this scan are {} and {} are not in this scan'\n",
    "            ''.format(monitors, sid, specscan.col_names,\n",
    "                      set(monitors).intersection(specscan.col_names)))\n",
    "    if x_name not in specscan.col_names:\n",
    "        raise KeyError(\n",
    "            '{} is the specified x axis and is not found in scan {}. '\n",
    "            'Column names in this scan are {}'.format(\n",
    "                x_name, sid, specscan.col_names))\n",
    "    if '*' in y_names:\n",
    "        # need to check to make sure that all the keys are in all the\n",
    "        y_keys[sid] = fnmatch.filter(specscan.col_names, y_names)\n",
    "    elif isinstance(y_names, str):\n",
    "        y_names = [y_names]\n",
    "    else:\n",
    "        # set(A) < set(B) being True means that A is a subset of B\n",
    "        # Make sure that all the keys that are specified in the config\n",
    "        # are in the column names of the spec scan\n",
    "        # pdb.set_trace()\n",
    "        if not set(y_names) < set(specscan.col_names):\n",
    "            raise KeyError(\n",
    "                '{} are found in the config file under the \"y:\" section '\n",
    "                'but are not found in scan {}'\n",
    "                ''.format(set(y_keys[sid]).difference(specscan.col_names)))\n",
    "if y_keys:\n",
    "    keys = list(sorted(y_keys))\n",
    "    for k1, k2 in zip(keys, keys[1:]):\n",
    "        if y_keys[k1] != y_keys[k2]:\n",
    "            print('Scans have different y keys.\\nScan {}: {}\\nScan{}: {}'\n",
    "                  ''.format(k1, y_keys[v1], k2, y_keys[k2]))\n",
    "    y_keys = y_keys[keys[0]]\n",
    "else:\n",
    "    y_keys = y_names\n"
   ]
  },
  {
   "cell_type": "code",
   "execution_count": null,
   "metadata": {
    "collapsed": false
   },
   "outputs": [],
   "source": [
    "# looks like we made it through the gauntlet!\n",
    "x_data = [sf[sid].scan_data[x_name] for sid in scans]\n",
    "y_data = [sf[sid].scan_data[y_keys] for sid in scans]\n",
    "# output the raw data and make some matplotlib plots\n",
    "fig, axes = make_axes(len(y_data), 6, 6)\n",
    "for x_vals, y_sid, sid, ax in zip(x_data, y_data, scans, axes.ravel()):\n",
    "    fpath = os.path.join(output_dir, '%s-raw' % sid)\n",
    "    df = y_sid.copy().set_index(x_vals)\n",
    "    df.to_csv(fpath, output_sep)\n",
    "    df.plot(logy=logy, ax=ax, **data_plot_kws)\n",
    "    ax.set_title(\"Raw data: Scan %s\" % sid)\n",
    "    ax.set_xlabel(x_name)\n",
    "    ax.set_ylabel(\"Raw counts\")\n",
    "\n",
    "plt.tight_layout()\n",
    "fpath = os.path.join(output_dir, '-'.join([str(sid) for sid in scans]) + '-raw')\n",
    "fig.savefig(fpath + '.png')"
   ]
  },
  {
   "cell_type": "code",
   "execution_count": null,
   "metadata": {
    "collapsed": false
   },
   "outputs": [],
   "source": [
    "# Extract and plot the raw monitor columns\n",
    "raw_monitor_data = [[sf[sid].scan_data[monitor] \n",
    "                     for monitor in monitors]\n",
    "                    for sid in scans]\n",
    "fig, axes = make_axes(len(raw_monitor_data))\n",
    "for mon_data, x, sid, ax in zip(raw_monitor_data, x_data, scans, axes.ravel()):\n",
    "    for d, mon in zip(mon_data, monitors):\n",
    "        ax.plot(x, d, label=mon, **data_plot_kws)\n",
    "#         ax.semilogy(x, d, label=mon)\n",
    "    ax.legend(loc=0)\n",
    "    ax.set_title('Raw monitor data: Scan %s' % sid)\n",
    "plt.tight_layout()"
   ]
  },
  {
   "cell_type": "code",
   "execution_count": null,
   "metadata": {
    "collapsed": false
   },
   "outputs": [],
   "source": [
    "# normalize the monitor by its average value\n",
    "norm_mon_data = [[d / np.average(d) for d in mon_data] for mon_data in raw_monitor_data]\n",
    "fig, axes = make_axes(len(raw_monitor_data))\n",
    "for mon_data, x, sid, ax in zip(norm_mon_data, x_data, scans, axes.ravel()):\n",
    "    for d, mon in zip(mon_data, monitors):\n",
    "        ax.plot(x, d, label=mon, **data_plot_kws)\n",
    "    ax.legend(loc=0)\n",
    "    ax.set_title('Normalized monitor data: Scan %s' % sid)\n",
    "plt.tight_layout()"
   ]
  },
  {
   "cell_type": "code",
   "execution_count": null,
   "metadata": {
    "collapsed": false
   },
   "outputs": [],
   "source": [
    "# normalize the monitor by its average value\n",
    "monitor_data = [np.product(mon_data, axis=0) for mon_data in norm_mon_data]\n",
    "\n",
    "fig, axes = make_axes(len(monitor_data))\n",
    "for mon_data, x, sid, ax in zip(monitor_data, x_data, scans, axes.ravel()):\n",
    "    ax.plot(x, mon_data, label=sid, **data_plot_kws)\n",
    "    ax.legend(loc=0)\n",
    "    ax.set_title(\"Monitor data: Scan %s\" % sid)\n",
    "    ax.set_xlabel(x_name)\n",
    "    ax.set_ylabel(\"Raw counts\")\n",
    "    # output the monitor data\n",
    "    fpath = os.path.join(output_dir, '%s-monitor' % sid)\n",
    "    pd.DataFrame({'sid': mon_data}, index=x).to_csv(fpath, output_sep)\n",
    "    \n",
    "plt.tight_layout()\n",
    "fpath = os.path.join(output_dir, '-'.join([str(sid) for sid in scans]) + '-monitor')\n",
    "fig.savefig(fpath + '.png')"
   ]
  },
  {
   "cell_type": "code",
   "execution_count": null,
   "metadata": {
    "collapsed": false
   },
   "outputs": [],
   "source": [
    "# normalize by the monitor\n",
    "normed = [y.divide(monitor*ct_time, 'rows')\n",
    "          for y, monitor, ct_time in zip(y_data, monitor_data, exposure_time)]\n",
    "fig, axes = make_axes(len(normed), 6, 6)\n",
    "for df, x, sid, ax in zip(normed, x_data, scans, axes.ravel()):\n",
    "    df.plot(logy=logy, ax=ax, **data_plot_kws)\n",
    "    ax.legend(loc=0)\n",
    "    ax.set_title(\"Normalized data: Scan %s\" % sid)\n",
    "    ax.set_xlabel(x_name)\n",
    "    ax.set_ylabel(\"Raw counts\")\n",
    "    # output the monitor data\n",
    "    fpath = os.path.join(output_dir, '%s-norm' % sid)\n",
    "    df.to_csv(fpath, output_sep)\n",
    "\n",
    "plt.tight_layout()"
   ]
  },
  {
   "cell_type": "code",
   "execution_count": null,
   "metadata": {
    "collapsed": false
   },
   "outputs": [],
   "source": [
    "# fit all the data\n",
    "fits = [[gaussian_fit(x, cols[col_name]) for col_name in cols]\n",
    "        for x, cols in zip(x_data, normed)]\n",
    "metadata['fits'] = {}\n",
    "# output the fit data\n",
    "\n",
    "\n",
    "fig, axes = plt.subplots(nrows=len(y_keys), ncols=len(scans), figsize=(len(scans)*4, len(y_keys)*4))\n",
    "\n",
    "for x_vals, normed_df, fit_output, sid, ax_col in zip(x_data, normed, fits, scans, axes.T):\n",
    "    df_dict = {col_name: f.best_fit.values for col_name, f in zip(y_keys, fit_output)}\n",
    "    df = pd.DataFrame(df_dict, index=x_vals)\n",
    "    try:\n",
    "        iter(ax_col)\n",
    "    except TypeError:\n",
    "        ax_col = [ax_col]\n",
    "    for ax, fit_col_name, normed_col_name in zip(ax_col, df, normed_df):\n",
    "        plot = getattr(ax, plot_method_name)\n",
    "        fit = plot(df.index, df[fit_col_name], label='fit', \n",
    "                   **black_fit_line)\n",
    "        d, = plot(normed_df.index, normed_df[normed_col_name], \n",
    "                  label=normed_col_name, **translucent_red_marker)\n",
    "        # manually set the marker face color so that I can set the alpha\n",
    "        curmax = np.max(normed_df[normed_col_name])\n",
    "        curmin = normed_df[normed_col_name].dropna()[normed_df[normed_col_name] != 0].min()\n",
    "        ax.set_ylim([curmin, curmax])\n",
    "        ax.legend(loc=0)\n",
    "        ax.set_title('Scan %s. Col %s' % (sid, normed_col_name))\n",
    "        ax.set_xlabel(x_name)\n",
    "        ax.set_ylabel(\"Fit to normalized counts\")\n",
    "    fpath = os.path.join(output_dir, '-'.join([str(sid), 'fit']))\n",
    "    df.to_csv(fpath, output_sep)\n",
    "    metadata['fits'][sid] = {\n",
    "        col_name: f.fit_report() for col_name, f in zip(y_keys, fit_output)\n",
    "    }\n",
    "plt.tight_layout()\n",
    "# write metadata to file\n",
    "fname = '-'.join([str(sid) for sid in scans]) + 'metadata'\n",
    "with open(os.path.join(output_dir,  fname), 'w') as f:\n",
    "    f.write(pformat(metadata))\n",
    "    \n",
    "fpath = os.path.join(output_dir, '-'.join([str(sid) for sid in scans]) + '-fit')\n",
    "fig.savefig(fpath + '.png')"
   ]
  },
  {
   "cell_type": "code",
   "execution_count": null,
   "metadata": {
    "collapsed": false
   },
   "outputs": [],
   "source": [
    "# zero everything\n",
    "zeroed = [\n",
    "    [(np.array(f.userkws['x'] - f.params['center'], dtype=float), f.data)\n",
    "     for f in fit] for fit in fits]\n",
    "# output the zeroed data\n",
    "fig, axes = make_axes(len(zeroed), 6, 6)\n",
    "for zeroed_vals, sid, ax in zip(zeroed, scans, axes.ravel()):\n",
    "    fpath = os.path.join(output_dir, '-'.join([str(sid), 'zeroed']))\n",
    "    col_names = [['x-%s' % col_name, 'y-%s' % col_name] for col_name in y_keys]\n",
    "    df_dict = {col_name: col\n",
    "               for col_name_pair, xy in zip(col_names, zeroed_vals)\n",
    "               for col_name, col in zip(col_name_pair, xy)}\n",
    "    df = pd.DataFrame(df_dict)\n",
    "    plot = getattr(ax, plot_method_name)\n",
    "    for x, y in col_names:\n",
    "        plot(df[x], df[y], label=y, **data_plot_kws)\n",
    "    ax.set_title('Scan %s. Col %s' % (sid, normed_col_name))\n",
    "    ax.set_xlabel(x_name)\n",
    "    ax.set_ylabel(\"Fit to normalized counts\")\n",
    "    ax.legend(loc=0)\n",
    "#     df.plot(ax=ax, logy=logy)\n",
    "    df.to_csv(fpath, output_sep)\n",
    "\n",
    "plt.tight_layout()\n",
    "fpath = os.path.join(output_dir, '-'.join([str(sid) for sid in scans]) + '-aligned')\n",
    "fig.savefig(fpath + '.png')"
   ]
  },
  {
   "cell_type": "markdown",
   "metadata": {},
   "source": [
    "## Make the new interpolated axis"
   ]
  },
  {
   "cell_type": "code",
   "execution_count": null,
   "metadata": {
    "collapsed": false
   },
   "outputs": [],
   "source": [
    "# compute the average difference between data points\n",
    "diff = np.average([np.average([np.average(np.diff(x)) for x, y in z]) for z in zeroed])\n",
    "stepsize = diff / densify_interpolated_axis\n",
    "minval = np.min([np.min([x for x, y in xy]) for xy in zeroed])\n",
    "maxval = np.max([np.max([x for x, y in xy]) for xy in zeroed])\n",
    "# round down to the lower integer\n",
    "minval = np.floor(minval)\n",
    "# round up to the nearest integer\n",
    "maxval = np.ceil(maxval)\n",
    "# compute the new axes\n",
    "new_axis = np.arange(minval, maxval, stepsize)\n",
    "print('min, max, step: (%s, %s, %s)' % (minval, maxval, stepsize))"
   ]
  },
  {
   "cell_type": "code",
   "execution_count": null,
   "metadata": {
    "collapsed": false
   },
   "outputs": [],
   "source": [
    "# set up the interpolators\n",
    "interpolators = [[interp1d(x, y, kind=interpolation_mode,\n",
    "                           bounds_error=False,\n",
    "                           fill_value=np.nan)\n",
    "                  for x, y in z] for z in zeroed]\n",
    "\n",
    "# Create the interpolated va`lues categorized by scan\n",
    "interpolated = [\n",
    "    pd.DataFrame({col_name: interp(new_axis) for col_name, interp in\n",
    "                  zip(y_keys, interpolator)},\n",
    "                 index=new_axis) for interpolator in interpolators]\n",
    "\n",
    "fig, axes = make_axes((2, 1), 6, 6)\n",
    "# output and plot the interpolated data\n",
    "for interp_df, sid, ax in zip(interpolated, scans, axes.ravel()):\n",
    "    fpath = os.path.join(output_dir, '-'.join([str(sid), 'interpolated']))\n",
    "    interp_df.to_csv(fpath, output_sep)\n",
    "    plot = getattr(ax, plot_method_name)\n",
    "    for col in interp_df:\n",
    "        plot(interp_df.index, interp_df[col], label=col, \n",
    "             **data_plot_kws)\n",
    "    ax.legend(loc=0)\n",
    "plt.tight_layout()\n",
    "fpath = os.path.join(output_dir, '-'.join([str(sid) for sid in scans]) + '-interpolated')\n",
    "fig.savefig(fpath + '.png')"
   ]
  },
  {
   "cell_type": "code",
   "execution_count": null,
   "metadata": {
    "collapsed": false
   },
   "outputs": [],
   "source": [
    "summed_by_scan = pd.DataFrame({\n",
    "    sid: interp_df.dropna().sum(axis=1)\n",
    "    for sid, interp_df in zip(scans, interpolated)}, index=new_axis)\n",
    "# fit the summed by scan curves\n",
    "# pdb.set_trace()\n",
    "summed_by_scan_fit = {}\n",
    "fits = {}\n",
    "for sid in summed_by_scan:\n",
    "    series = summed_by_scan[sid].dropna()\n",
    "    f = gaussian_fit(series.index.values, series.values)\n",
    "    fits[sid] = f\n",
    "    summed_by_scan_fit[sid] = pd.DataFrame({sid: f.best_fit}, index=series.index.values)\n",
    "    print('FWHM for %s: %.4g +/- %.2g' % (sid, f.params['fwhm'].value, f.params['fwhm'].stderr))\n",
    "\n",
    "fpath = os.path.join(output_dir, '-'.join([str(sid) for sid in scans] + ['summed']))\n",
    "with open(fpath+'-by-scan-FIT', 'w') as f:\n",
    "    for sid, fit in fits.items():\n",
    "        f.write('Scan %s\\n' % sid)\n",
    "        f.write(fit.fit_report())\n",
    "        f.write('\\n\\n')\n",
    "# Output the summed by scan data\n",
    "summed_by_scan.to_csv(fpath + '-by-scan', output_sep)\n",
    "# plot the data summed by scan\n",
    "\n",
    "fig, axes = make_axes(len(scans), 6, 6)\n",
    "for sid, ax in zip(scans, axes.ravel()):\n",
    "    plot = getattr(ax, plot_method_name)\n",
    "    plot(summed_by_scan_fit[sid].index[:], summed_by_scan_fit[sid][:], label='fit', **black_fit_line)\n",
    "    plot(summed_by_scan[sid].index[:], summed_by_scan[sid][:], label=sid, **translucent_red_marker)\n",
    "    curmax = np.max(summed_by_scan[sid].max()) * 1.25\n",
    "    curmin = np.min(summed_by_scan[sid][summed_by_scan[sid]!=0].min())\n",
    "    ax.legend(loc=1)\n",
    "    ax.set_title('Scan %s. Aligned and summed by scan.' % sid)\n",
    "    ax.set_xlabel(r'$\\Delta$E')\n",
    "    ax.set_ylim([curmin, curmax])\n",
    "    ax.set_ylabel(\"Normalized counts per second\")\n",
    "    ax.axvline(linewidth=3, color='k', linestyle='--')\n",
    "\n",
    "plt.tight_layout()\n",
    "fpath = os.path.join(output_dir, '-'.join([str(sid) for sid in scans]) + '-aligned-and-summed-by-scan')\n",
    "fig.savefig(fpath + '.png')"
   ]
  },
  {
   "cell_type": "code",
   "execution_count": null,
   "metadata": {
    "collapsed": false
   },
   "outputs": [],
   "source": [
    "# fill in missing values with 0 for the sum so that we don't lose actual data points\n",
    "interpolated = [interp.fillna(0) for interp in interpolated]"
   ]
  },
  {
   "cell_type": "code",
   "execution_count": null,
   "metadata": {
    "collapsed": true
   },
   "outputs": [],
   "source": [
    "summed_by_detector = pd.DataFrame({\n",
    "    det_name: np.sum([df[det_name].values for df in interpolated], axis=0)\n",
    "    for det_name in list(y_data[0].columns)}, index=new_axis)\n",
    "# Output the summed by scan data\n",
    "fpath = os.path.join(output_dir, '-'.join([str(sid) for sid in scans] + ['summed']))\n",
    "summed_by_detector.to_csv(fpath + '-by-detector', output_sep)"
   ]
  },
  {
   "cell_type": "code",
   "execution_count": null,
   "metadata": {
    "collapsed": false
   },
   "outputs": [],
   "source": [
    "summed_by_detector_fit = {}\n",
    "fits = {}\n",
    "for det_name in summed_by_detector:\n",
    "    series = summed_by_detector[det_name].dropna()\n",
    "    f = gaussian_fit(series.index.values, series.values)\n",
    "    fits[det_name] = f\n",
    "    summed_by_detector_fit[det_name] = pd.DataFrame({det_name: f.best_fit}, index=series.index.values)\n",
    "    print('FWHM for %s: %.4g +/- %.2g' % (det_name, f.params['fwhm'].value, f.params['fwhm'].stderr))\n",
    "\n",
    "with open(fpath+'-by-detector-FIT', 'w') as f:\n",
    "    for sid, fit in fits.items():\n",
    "        f.write('Scan %s\\n' % sid)\n",
    "        f.write(fit.fit_report())\n",
    "        f.write('\\n\\n')\n",
    "\n",
    "\n",
    "fig, axes = make_axes(len(summed_by_detector.columns), 6, 6)\n",
    "\n",
    "for col_name, ax in zip(summed_by_detector, axes.ravel()):\n",
    "    plot = getattr(ax, plot_method_name)\n",
    "    plot(summed_by_detector_fit[col_name].index[:], \n",
    "         summed_by_detector_fit[col_name][:], \n",
    "         label='fit', \n",
    "         **black_fit_line)\n",
    "    plot(summed_by_detector[col_name].index[:], \n",
    "         summed_by_detector[col_name][:], \n",
    "         label=col_name, \n",
    "         **translucent_red_marker)\n",
    "    curmax = np.max(summed_by_detector[col_name].max()) * 1.25\n",
    "    curmin = np.min(summed_by_detector[col_name][summed_by_detector[col_name]!=0].min())\n",
    "    ax.legend(loc=1)\n",
    "    ax.set_title('Scans {}. Summed all {}.'.format(scans, col_name))\n",
    "    ax.set_xlabel(r'$\\Delta$E')\n",
    "    ax.set_ylim([curmin, curmax])\n",
    "    ax.set_ylabel(\"Normalized counts per second\")\n",
    "    ax.axvline(linewidth=3, color='k', linestyle='--')\n",
    "plt.tight_layout()\n",
    "fpath = os.path.join(output_dir, '-'.join([str(sid) for sid in scans]) + '-aligned-and-summed-by-detector')\n",
    "fig.savefig(fpath + '.png')"
   ]
  },
  {
   "cell_type": "code",
   "execution_count": null,
   "metadata": {
    "collapsed": false
   },
   "outputs": [],
   "source": [
    "# make data set for summing all data\n",
    "\n",
    "summed_all = summed_by_detector.dropna().sum(axis=1)\n",
    "fit = gaussian_fit(summed_all.index.values, summed_all.values)\n",
    "df =  pd.DataFrame({'data': summed_all.values, 'fit': fit.best_fit}, index=summed_all.index.values)\n",
    "print('FWHM for summed data set: %.4g +/- %.2g' % (fit.params['fwhm'].value, fit.params['fwhm'].stderr))\n",
    "# Output the summed by scan data\n",
    "fpath = os.path.join(output_dir, '-'.join([str(sid) for sid in scans] + ['summed']))\n",
    "df.to_csv(fpath + '-all-with-fit', output_sep)\n",
    "with open(fpath + '-all-fit', 'w') as f:\n",
    "    f.write(fit.fit_report())\n",
    "\n",
    "# plot the final data and its fit\n",
    "\n",
    "fig, ax = make_axes(1, 6, 6)\n",
    "ax = ax[0]\n",
    "plot = getattr(ax, plot_method_name)\n",
    "plot(df.index[:], df['fit'][:], label='fit', **black_fit_line)\n",
    "plot(df.index[:], df['data'][:], label='all summed', **translucent_red_marker)\n",
    "curmax = np.max(df['data'].max()) * 1.25\n",
    "curmin = np.min(df['data'][df['data']!=0].min())\n",
    "ax.legend(loc=1)\n",
    "ax.set_title('Scans {}. Summed all detectors.'.format(scans))\n",
    "ax.set_xlabel(r'$\\Delta$E')\n",
    "ax.set_ylim([curmin, curmax])\n",
    "ax.set_ylabel(\"Normalized counts per second\")\n",
    "ax.axvline(linewidth=3, color='k', linestyle='--')\n",
    "plt.tight_layout()\n",
    "fpath = os.path.join(output_dir, '-'.join([str(sid) for sid in scans]) + '-aligned-and-summed-by-all')\n",
    "fig.savefig(fpath + '.png')"
   ]
  },
  {
   "cell_type": "code",
   "execution_count": null,
   "metadata": {
    "collapsed": true
   },
   "outputs": [],
   "source": []
  }
 ],
 "metadata": {
  "kernelspec": {
   "display_name": "Python 3",
   "language": "python",
   "name": "python3"
  },
  "language_info": {
   "codemirror_mode": {
    "name": "ipython",
    "version": 3
   },
   "file_extension": ".py",
   "mimetype": "text/x-python",
   "name": "python",
   "nbconvert_exporter": "python",
   "pygments_lexer": "ipython3",
   "version": "3.5.1"
  }
 },
 "nbformat": 4,
 "nbformat_minor": 0
}
