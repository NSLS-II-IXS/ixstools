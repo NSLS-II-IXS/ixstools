{
 "cells": [
  {
   "cell_type": "code",
   "execution_count": 1,
   "metadata": {
    "collapsed": true
   },
   "outputs": [],
   "source": [
    "from databroker import db, get_table\n",
    "\n",
    "from metadatastore.commands import (insert_run_start, find_run_starts,\n",
    "                                    insert_descriptor, find_descriptors,\n",
    "                                    insert_event, find_events,\n",
    "                                    insert_run_stop, find_run_stops,\n",
    "                                    descriptors_by_start, get_events_generator)\n",
    "\n",
    "from ixstools.io import Specfile\n",
    "import uuid\n",
    "import os\n",
    "from metadatastore.utils.testing import mds_setup, mds_teardown"
   ]
  },
  {
   "cell_type": "code",
   "execution_count": 2,
   "metadata": {
    "collapsed": true
   },
   "outputs": [],
   "source": [
    "mds_setup()"
   ]
  },
  {
   "cell_type": "code",
   "execution_count": 3,
   "metadata": {
    "collapsed": false
   },
   "outputs": [],
   "source": [
    "specpath = '/home/edill/dev/python/ixstools/ixstools/'\n",
    "sf = Specfile(specpath + os.sep + '20160219.spec')"
   ]
  },
  {
   "cell_type": "code",
   "execution_count": 4,
   "metadata": {
    "collapsed": false
   },
   "outputs": [],
   "source": [
    "def run_start(specscan, beamline_id, **md):\n",
    "    run_start_dict = {\n",
    "        'time': specscan.time_from_date.timestamp(),\n",
    "        'scan_id': specscan.scan_id,\n",
    "        'beamline_id': beamline_id,\n",
    "        'uid': str(uuid.uuid4()),\n",
    "        'specpath': specscan.specfile.filename,\n",
    "        'owner': specscan.specfile.parsed_header['user'],\n",
    "        'plan_args': specscan.scan_args,\n",
    "        'scan_type': specscan.scan_command,\n",
    "    }\n",
    "    run_start_dict.update(**md)\n",
    "    return insert_run_start(**run_start_dict)\n",
    "\n",
    "def baseline(specscan, start_uid):\n",
    "    timestamp = specscan.time_from_date.timestamp()\n",
    "    data_keys = {}\n",
    "    data = {}\n",
    "    timestamps = {}\n",
    "    for obj_name, human_name, value in zip(specscan.specfile.parsed_header['motor_spec_names'], \n",
    "                                           specscan.specfile.parsed_header['motor_human_names'], \n",
    "                                           specscan.motor_values):\n",
    "        data_keys[obj_name] = {'dtype': 'number', 'shape': [], 'source': human_name}\n",
    "        data[obj_name] = value\n",
    "        timestamps[obj_name] = timestamp\n",
    "    data_keys.update({k: {'dtype': 'number', 'shape': [], 'source': k} for k in 'hkl'})\n",
    "    data.update({k: v for k, v in zip('hkl', specscan.hkl)})\n",
    "    timestamps.update({k: timestamp for k in 'hkl'})\n",
    "    descriptor_uid = insert_descriptor(run_start=start_uid, data_keys=data_keys, \n",
    "                                       time=timestamp, uid=str(uuid.uuid4()), name='baseline')\n",
    "    yield 'descriptor', descriptor_uid\n",
    "    yield 'event', insert_event(descriptor=descriptor_uid, seq_num=0, time=timestamp,\n",
    "                                data=data, timestamps=timestamps, uid=str(uuid.uuid4()))\n",
    "\n",
    "def events(specscan, start_uid):\n",
    "    timestamp = specscan.time_from_date.timestamp()\n",
    "    data_keys = {}\n",
    "    data = {}\n",
    "    timestamps = {}\n",
    "    \n",
    "    data_keys = {col: {'dtype': 'number', 'shape': [], 'source': col} for col in specscan.col_names}\n",
    "    descriptor_uid = insert_descriptor(run_start=start_uid, data_keys=data_keys,\n",
    "                                       time=timestamp, uid=str(uuid.uuid4()),\n",
    "                                       name='primary')\n",
    "    yield 'descriptor', descriptor_uid\n",
    "    timestamps = {col: timestamp for col in specscan.col_names}\n",
    "    for seq_num, (x, row_series) in enumerate(specscan.scan_data.iterrows()):\n",
    "        data = {col: data for col, data in zip(row_series.index, row_series[:])}\n",
    "        yield 'event', insert_event(data=data, descriptor=descriptor_uid, seq_num=seq_num,\n",
    "                                    time=timestamp + data['Epoch'],\n",
    "                                    timestamps=timestamps, uid=str(uuid.uuid4()))\n",
    "\n",
    "def stop(specscan, start_uid, **md):\n",
    "    timestamp = specscan.time_from_date.timestamp()\n",
    "    yield 'stop', insert_run_stop(run_start=start_uid, time=timestamp, uid=str(uuid.uuid4()), **md)"
   ]
  },
  {
   "cell_type": "code",
   "execution_count": null,
   "metadata": {
    "collapsed": true
   },
   "outputs": [],
   "source": [
    "def to_document_stream(specscan, beamline_id):\n",
    "    start_uid = run_start(specscan, beamline_id)\n",
    "    yield 'start', start_uid\n",
    "    yield from baseline(specscan, start_uid)\n",
    "    yield from events(specscan, start_uid)\n",
    "    # do some sanity checks\n",
    "    descriptors = descriptors_by_start(start_uid)\n",
    "    assert len(descriptors) == 2\n",
    "    baseline_descriptor, primary_descriptor = descriptors\n",
    "    if baseline_descriptor.name != 'baseline':\n",
    "        baseline_descriptor, primary_descriptor = primary_descriptor, baseline_descriptor\n",
    "    baseline_descriptor = descriptors[0] if descriptors[0].name == 'baseline' else descriptors[1]\n",
    "    baseline_events = list(get_events_generator(baseline_descriptor))\n",
    "    assert len(baseline_events) == 1\n",
    "    primary_descriptor = descriptors[0] if descriptors[0].name == 'primary' else descriptors[1]\n",
    "    primary_events = list(get_events_generator(primary_descriptor))\n",
    "    if len(primary_events) <= specscan.num_points:\n",
    "        print('scan %s only has %s/%s points. Assuming scan was aborted. start_uid=%s' \n",
    "              % (specscan.scan_id, len(primary_events), specscan.num_points, start_uid))\n",
    "        reason = 'abort'\n",
    "    else:\n",
    "        reason = 'success'\n",
    "    yield from stop(specscan, start_uid, reason=reason)\n",
    "    "
   ]
  },
  {
   "cell_type": "code",
   "execution_count": null,
   "metadata": {
    "collapsed": false
   },
   "outputs": [
    {
     "name": "stdout",
     "output_type": "stream",
     "text": [
      "scan 1 only has 12/34 points. Assuming scan was aborted. start_uid=d87b6ccf-d45e-485f-b933-3caedc95438e\n",
      "scan 2 only has 31/34 points. Assuming scan was aborted. start_uid=863e687f-4b56-4dcf-a6d2-6af695493e15\n",
      "scan 14 only has 18/34 points. Assuming scan was aborted. start_uid=c7a01787-97ee-4cba-a1dc-0f06908e7e06\n",
      "scan 15 only has 15/34 points. Assuming scan was aborted. start_uid=6e1d36b2-dfa9-4c1a-a575-4d54bbb4f4fd"
     ]
    }
   ],
   "source": [
    "for specscan in sf:\n",
    "    stream = list(to_document_stream(specscan, 'ixs'))"
   ]
  },
  {
   "cell_type": "code",
   "execution_count": null,
   "metadata": {
    "collapsed": false
   },
   "outputs": [],
   "source": [
    "headers = db(specpath='/home/edill/dev/python/ixstools/ixstools/20160219.spec')"
   ]
  },
  {
   "cell_type": "code",
   "execution_count": null,
   "metadata": {
    "collapsed": false,
    "scrolled": false
   },
   "outputs": [],
   "source": [
    "assert len(headers) == len(sf)"
   ]
  },
  {
   "cell_type": "code",
   "execution_count": null,
   "metadata": {
    "collapsed": false
   },
   "outputs": [],
   "source": [
    "len(sf)"
   ]
  },
  {
   "cell_type": "code",
   "execution_count": null,
   "metadata": {
    "collapsed": false
   },
   "outputs": [],
   "source": [
    "len(headers)"
   ]
  },
  {
   "cell_type": "code",
   "execution_count": null,
   "metadata": {
    "collapsed": false
   },
   "outputs": [],
   "source": [
    "# show the contents of the document stream\n",
    "stream"
   ]
  },
  {
   "cell_type": "code",
   "execution_count": null,
   "metadata": {
    "collapsed": false,
    "scrolled": false
   },
   "outputs": [],
   "source": [
    "db[stream[0][1]].start"
   ]
  },
  {
   "cell_type": "code",
   "execution_count": null,
   "metadata": {
    "collapsed": false,
    "scrolled": false
   },
   "outputs": [],
   "source": [
    "print(db[stream[0][1]].descriptors[0])"
   ]
  },
  {
   "cell_type": "code",
   "execution_count": null,
   "metadata": {
    "collapsed": false,
    "scrolled": false
   },
   "outputs": [],
   "source": [
    "print(db[stream[0][1]].descriptors[1])"
   ]
  },
  {
   "cell_type": "code",
   "execution_count": null,
   "metadata": {
    "collapsed": false
   },
   "outputs": [],
   "source": [
    "print(db[stream[0][1]].stop)"
   ]
  },
  {
   "cell_type": "code",
   "execution_count": null,
   "metadata": {
    "collapsed": true
   },
   "outputs": [],
   "source": [
    "mds_teardown()"
   ]
  },
  {
   "cell_type": "code",
   "execution_count": null,
   "metadata": {
    "collapsed": true
   },
   "outputs": [],
   "source": []
  }
 ],
 "metadata": {
  "kernelspec": {
   "display_name": "Python 3",
   "language": "python",
   "name": "python3"
  },
  "language_info": {
   "codemirror_mode": {
    "name": "ipython",
    "version": 3
   },
   "file_extension": ".py",
   "mimetype": "text/x-python",
   "name": "python",
   "nbconvert_exporter": "python",
   "pygments_lexer": "ipython3",
   "version": "3.5.1"
  }
 },
 "nbformat": 4,
 "nbformat_minor": 0
}
