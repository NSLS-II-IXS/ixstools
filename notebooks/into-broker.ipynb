{
 "cells": [
  {
   "cell_type": "code",
   "execution_count": 1,
   "metadata": {
    "collapsed": true
   },
   "outputs": [],
   "source": [
    "from databroker import db, get_table\n",
    "\n",
    "from metadatastore.commands import (insert_run_start, find_run_starts,\n",
    "                                    insert_descriptor, find_descriptors,\n",
    "                                    insert_event, find_events,\n",
    "                                    insert_run_stop, find_run_stops,\n",
    "                                    descriptors_by_start, get_events_generator)\n",
    "\n",
    "from ixstools.io import Specfile\n",
    "import uuid\n",
    "import os\n",
    "from metadatastore.utils.testing import mds_setup, mds_teardown"
   ]
  },
  {
   "cell_type": "code",
   "execution_count": 2,
   "metadata": {
    "collapsed": true
   },
   "outputs": [],
   "source": [
    "mds_setup()"
   ]
  },
  {
   "cell_type": "code",
   "execution_count": 3,
   "metadata": {
    "collapsed": false
   },
   "outputs": [],
   "source": [
    "specpath = '/home/edill/dev/python/ixstools/ixstools/'\n",
    "sf = Specfile(specpath + os.sep + '20160219.spec')"
   ]
  },
  {
   "cell_type": "code",
   "execution_count": 4,
   "metadata": {
    "collapsed": false
   },
   "outputs": [],
   "source": [
    "def run_start(specscan, beamline_id, **md):\n",
    "    run_start_dict = {\n",
    "        'time': specscan.time_from_date.timestamp(),\n",
    "        'scan_id': specscan.scan_id,\n",
    "        'beamline_id': beamline_id,\n",
    "        'uid': str(uuid.uuid4()),\n",
    "        'specpath': specscan.specfile.filename,\n",
    "        'owner': specscan.specfile.parsed_header['user'],\n",
    "        'plan_args': specscan.scan_args,\n",
    "        'scan_type': specscan.scan_command,\n",
    "    }\n",
    "    run_start_dict.update(**md)\n",
    "    return insert_run_start(**run_start_dict)\n",
    "\n",
    "def baseline(specscan, start_uid):\n",
    "    timestamp = specscan.time_from_date.timestamp()\n",
    "    data_keys = {}\n",
    "    data = {}\n",
    "    timestamps = {}\n",
    "    for obj_name, human_name, value in zip(specscan.specfile.parsed_header['motor_spec_names'], \n",
    "                                           specscan.specfile.parsed_header['motor_human_names'], \n",
    "                                           specscan.motor_values):\n",
    "        data_keys[obj_name] = {'dtype': 'number', 'shape': [], 'source': human_name}\n",
    "        data[obj_name] = value\n",
    "        timestamps[obj_name] = timestamp\n",
    "    data_keys.update({k: {'dtype': 'number', 'shape': [], 'source': k} for k in 'hkl'})\n",
    "    data.update({k: v for k, v in zip('hkl', specscan.hkl)})\n",
    "    timestamps.update({k: timestamp for k in 'hkl'})\n",
    "    descriptor_uid = insert_descriptor(run_start=start_uid, data_keys=data_keys, \n",
    "                                       time=timestamp, uid=str(uuid.uuid4()), name='baseline')\n",
    "    yield 'descriptor', descriptor_uid\n",
    "    yield 'event', insert_event(descriptor=descriptor_uid, seq_num=0, time=timestamp,\n",
    "                                data=data, timestamps=timestamps, uid=str(uuid.uuid4()))\n",
    "\n",
    "def events(specscan, start_uid):\n",
    "    timestamp = specscan.time_from_date.timestamp()\n",
    "    data_keys = {}\n",
    "    data = {}\n",
    "    timestamps = {}\n",
    "    \n",
    "    data_keys = {col: {'dtype': 'number', 'shape': [], 'source': col} for col in specscan.col_names}\n",
    "    descriptor_uid = insert_descriptor(run_start=start_uid, data_keys=data_keys,\n",
    "                                       time=timestamp, uid=str(uuid.uuid4()),\n",
    "                                       name='primary')\n",
    "    yield 'descriptor', descriptor_uid\n",
    "    timestamps = {col: timestamp for col in specscan.col_names}\n",
    "    for seq_num, (x, row_series) in enumerate(specscan.scan_data.iterrows()):\n",
    "        data = {col: data for col, data in zip(row_series.index, row_series[:])}\n",
    "        yield 'event', insert_event(data=data, descriptor=descriptor_uid, seq_num=seq_num,\n",
    "                                    time=timestamp + data['Epoch'],\n",
    "                                    timestamps=timestamps, uid=str(uuid.uuid4()))\n",
    "\n",
    "def stop(specscan, start_uid, **md):\n",
    "    timestamp = specscan.time_from_date.timestamp()\n",
    "    yield 'stop', insert_run_stop(run_start=start_uid, time=timestamp, uid=str(uuid.uuid4()), **md)"
   ]
  },
  {
   "cell_type": "code",
   "execution_count": 5,
   "metadata": {
    "collapsed": true
   },
   "outputs": [],
   "source": [
    "def to_document_stream(specscan, beamline_id):\n",
    "    start_uid = run_start(specscan, beamline_id)\n",
    "    yield 'start', start_uid\n",
    "    yield from baseline(specscan, start_uid)\n",
    "    yield from events(specscan, start_uid)\n",
    "    # do some sanity checks\n",
    "    descriptors = descriptors_by_start(start_uid)\n",
    "    assert len(descriptors) == 2\n",
    "    baseline_descriptor, primary_descriptor = descriptors\n",
    "    if baseline_descriptor.name != 'baseline':\n",
    "        baseline_descriptor, primary_descriptor = primary_descriptor, baseline_descriptor\n",
    "    baseline_descriptor = descriptors[0] if descriptors[0].name == 'baseline' else descriptors[1]\n",
    "    baseline_events = list(get_events_generator(baseline_descriptor))\n",
    "    assert len(baseline_events) == 1\n",
    "    primary_descriptor = descriptors[0] if descriptors[0].name == 'primary' else descriptors[1]\n",
    "    primary_events = list(get_events_generator(primary_descriptor))\n",
    "    if len(primary_events) <= specscan.num_points:\n",
    "        print('scan %s only has %s/%s points. Assuming scan was aborted. start_uid=%s' \n",
    "              % (specscan.scan_id, len(primary_events), specscan.num_points, start_uid))\n",
    "        reason = 'abort'\n",
    "    else:\n",
    "        reason = 'success'\n",
    "    yield from stop(specscan, start_uid, reason=reason)\n",
    "    "
   ]
  },
  {
   "cell_type": "code",
   "execution_count": 6,
   "metadata": {
    "collapsed": false
   },
   "outputs": [
    {
     "name": "stdout",
     "output_type": "stream",
     "text": [
      "scan 1 only has 12/34 points. Assuming scan was aborted. start_uid=d87b6ccf-d45e-485f-b933-3caedc95438e\n",
      "scan 2 only has 31/34 points. Assuming scan was aborted. start_uid=863e687f-4b56-4dcf-a6d2-6af695493e15\n",
      "scan 14 only has 18/34 points. Assuming scan was aborted. start_uid=c7a01787-97ee-4cba-a1dc-0f06908e7e06\n",
      "scan 15 only has 15/34 points. Assuming scan was aborted. start_uid=6e1d36b2-dfa9-4c1a-a575-4d54bbb4f4fd\n",
      "scan 33 only has 23/31 points. Assuming scan was aborted. start_uid=e13bd8b6-c394-4c0c-a70f-825eae1f34f3\n",
      "scan 34 only has 28/31 points. Assuming scan was aborted. start_uid=9eb2bcf9-913d-4131-bf4d-de0b371349a3\n"
     ]
    }
   ],
   "source": [
    "for specscan in sf:\n",
    "    stream = list(to_document_stream(specscan, 'ixs'))"
   ]
  },
  {
   "cell_type": "code",
   "execution_count": 7,
   "metadata": {
    "collapsed": false
   },
   "outputs": [],
   "source": [
    "headers = db(specpath='/home/edill/dev/python/ixstools/ixstools/20160219.spec')"
   ]
  },
  {
   "cell_type": "code",
   "execution_count": 8,
   "metadata": {
    "collapsed": false,
    "scrolled": false
   },
   "outputs": [],
   "source": [
    "assert len(headers) == len(sf)"
   ]
  },
  {
   "cell_type": "code",
   "execution_count": 9,
   "metadata": {
    "collapsed": false
   },
   "outputs": [
    {
     "data": {
      "text/plain": [
       "34"
      ]
     },
     "execution_count": 9,
     "metadata": {},
     "output_type": "execute_result"
    }
   ],
   "source": [
    "len(sf)"
   ]
  },
  {
   "cell_type": "code",
   "execution_count": 10,
   "metadata": {
    "collapsed": false
   },
   "outputs": [
    {
     "data": {
      "text/plain": [
       "34"
      ]
     },
     "execution_count": 10,
     "metadata": {},
     "output_type": "execute_result"
    }
   ],
   "source": [
    "len(headers)"
   ]
  },
  {
   "cell_type": "code",
   "execution_count": 11,
   "metadata": {
    "collapsed": false
   },
   "outputs": [
    {
     "data": {
      "text/plain": [
       "[('start', '9eb2bcf9-913d-4131-bf4d-de0b371349a3'),\n",
       " ('descriptor', '71353344-a66b-404a-bf7d-c794f2a7a06c'),\n",
       " ('event', '450f68e0-b996-4d10-b9a4-59e234940b00'),\n",
       " ('descriptor', '821db274-6dd4-4a1d-9262-2d06b269a611'),\n",
       " ('event', '46c89451-7da7-422f-b06f-c0a486eb4fb5'),\n",
       " ('event', 'd61d0c27-0dba-431b-a8e4-78acb1401274'),\n",
       " ('event', 'b9070f46-e188-4c56-9e48-b28c4e538ebb'),\n",
       " ('event', '1c910a55-1ab7-4b5b-b587-26c1e1fe244d'),\n",
       " ('event', '53773a34-6d8b-45d5-9976-2a64272f8ec5'),\n",
       " ('event', 'aa8cf2a0-c903-4c0a-bde0-2851a9bb4c9c'),\n",
       " ('event', 'e3853bf2-a13e-4517-8b71-5001663e7482'),\n",
       " ('event', '820f76b3-c17d-4aa6-9328-8a0223e3fd48'),\n",
       " ('event', '71eae70b-8016-4b44-97cf-b2685558948e'),\n",
       " ('event', '9539451f-742b-4728-aa1c-2643df7e57d1'),\n",
       " ('event', '6c6b5f7b-7f48-4f3b-9b9c-3ce4f31b23ff'),\n",
       " ('event', 'b08d72b1-984b-4ec3-9f2c-23d8279c8ffc'),\n",
       " ('event', '1fe5ee64-01c4-4552-b5b4-d10f465b3678'),\n",
       " ('event', '9c08fc98-6066-4e59-8a4a-f66cfb34f87c'),\n",
       " ('event', 'b7e41000-3ace-4249-866e-04481cfbc90f'),\n",
       " ('event', 'fcda1581-7c4f-420d-bf2a-c816fa504d52'),\n",
       " ('event', 'c19ed498-53b1-4294-8d4a-fa1c108c0a24'),\n",
       " ('event', '9a581086-5cc0-47d6-af14-2821d03becaa'),\n",
       " ('event', '069ea893-c6fb-41fb-9b36-c91e87fff2d6'),\n",
       " ('event', '03bd1543-acbc-42ef-937d-6e1bef932224'),\n",
       " ('event', '56462794-270a-4e07-8b48-443ee743ab0f'),\n",
       " ('event', '9e8b60c6-f8ee-437c-8645-b8fa4187c1d9'),\n",
       " ('event', '46c4722d-1fa5-4bd2-aeef-c27aee08cd64'),\n",
       " ('event', 'be4599ee-68cd-4a10-bac2-588158aa426a'),\n",
       " ('event', '572ae931-c1e3-448e-ac99-3244d9969690'),\n",
       " ('event', '472b13ec-2108-403d-bb3d-08f196696015'),\n",
       " ('event', '71b58bec-f37d-450a-9209-fd2d7c3f523c'),\n",
       " ('event', 'af5411c4-9284-4af5-8453-ebe646090a20'),\n",
       " ('stop', '2502b44a-f7cc-4863-a679-6f9d85278697')]"
      ]
     },
     "execution_count": 11,
     "metadata": {},
     "output_type": "execute_result"
    }
   ],
   "source": [
    "# show the contents of the document stream\n",
    "stream"
   ]
  },
  {
   "cell_type": "code",
   "execution_count": 12,
   "metadata": {
    "collapsed": false,
    "scrolled": false
   },
   "outputs": [
    {
     "data": {
      "text/html": [
       "\n",
       "<table>\n",
       "\n",
       "  <tr>\n",
       "    <th> beamline_id </th>\n",
       "    <td>\n",
       "      \n",
       "          \n",
       "            ixs\n",
       "          \n",
       "        \n",
       "    </td>\n",
       "  </tr>\n",
       "\n",
       "  <tr>\n",
       "    <th> group </th>\n",
       "    <td>\n",
       "      \n",
       "          \n",
       "            \n",
       "          \n",
       "        \n",
       "    </td>\n",
       "  </tr>\n",
       "\n",
       "  <tr>\n",
       "    <th> owner </th>\n",
       "    <td>\n",
       "      \n",
       "          \n",
       "            asuvorov\n",
       "          \n",
       "        \n",
       "    </td>\n",
       "  </tr>\n",
       "\n",
       "  <tr>\n",
       "    <th> plan_args </th>\n",
       "    <td>\n",
       "      \n",
       "          \n",
       "            ['1', '0']\n",
       "          \n",
       "        \n",
       "    </td>\n",
       "  </tr>\n",
       "\n",
       "  <tr>\n",
       "    <th> project </th>\n",
       "    <td>\n",
       "      \n",
       "          \n",
       "            \n",
       "          \n",
       "        \n",
       "    </td>\n",
       "  </tr>\n",
       "\n",
       "  <tr>\n",
       "    <th> sample </th>\n",
       "    <td>\n",
       "      \n",
       "        <table>\n",
       "          \n",
       "        </table>\n",
       "        \n",
       "    </td>\n",
       "  </tr>\n",
       "\n",
       "  <tr>\n",
       "    <th> scan_id </th>\n",
       "    <td>\n",
       "      \n",
       "          \n",
       "            34\n",
       "          \n",
       "        \n",
       "    </td>\n",
       "  </tr>\n",
       "\n",
       "  <tr>\n",
       "    <th> scan_type </th>\n",
       "    <td>\n",
       "      \n",
       "          \n",
       "            timescan\n",
       "          \n",
       "        \n",
       "    </td>\n",
       "  </tr>\n",
       "\n",
       "  <tr>\n",
       "    <th> specpath </th>\n",
       "    <td>\n",
       "      \n",
       "          \n",
       "            /home/edill/dev/python/ixstools/ixstools/20160219.spec\n",
       "          \n",
       "        \n",
       "    </td>\n",
       "  </tr>\n",
       "\n",
       "  <tr>\n",
       "    <th> time </th>\n",
       "    <td>\n",
       "      \n",
       "          \n",
       "            a month ago (2016-02-22T13:54:26)\n",
       "          \n",
       "        \n",
       "    </td>\n",
       "  </tr>\n",
       "\n",
       "  <tr>\n",
       "    <th> uid </th>\n",
       "    <td>\n",
       "      \n",
       "          \n",
       "            9eb2bcf9-913d-4131-bf4d-de0b371349a3\n",
       "          \n",
       "        \n",
       "    </td>\n",
       "  </tr>\n",
       "\n",
       "</table>"
      ],
      "text/plain": [
       "{'beamline_id': 'ixs',\n",
       " 'group': '',\n",
       " 'owner': 'asuvorov',\n",
       " 'plan_args': ['1', '0'],\n",
       " 'project': '',\n",
       " 'sample': {},\n",
       " 'scan_id': 34,\n",
       " 'scan_type': 'timescan',\n",
       " 'specpath': '/home/edill/dev/python/ixstools/ixstools/20160219.spec',\n",
       " 'time': 1456167266.0,\n",
       " 'uid': '9eb2bcf9-913d-4131-bf4d-de0b371349a3'}"
      ]
     },
     "execution_count": 12,
     "metadata": {},
     "output_type": "execute_result"
    }
   ],
   "source": [
    "db[stream[0][1]].start"
   ]
  },
  {
   "cell_type": "code",
   "execution_count": 13,
   "metadata": {
    "collapsed": false,
    "scrolled": false
   },
   "outputs": [
    {
     "name": "stdout",
     "output_type": "stream",
     "text": [
      "\n",
      "EventDescriptor\n",
      "===============\n",
      "+-----------+--------+-------+----------+\n",
      "| data keys | dtype  | shape |  source  |\n",
      "+-----------+--------+-------+----------+\n",
      "| Detector  | number |   []  | Detector |\n",
      "| Epoch     | number |   []  |  Epoch   |\n",
      "| Monitor   | number |   []  | Monitor  |\n",
      "| PD11      | number |   []  |   PD11   |\n",
      "| PD12      | number |   []  |   PD12   |\n",
      "| PD13      | number |   []  |   PD13   |\n",
      "| PD14      | number |   []  |   PD14   |\n",
      "| PD21      | number |   []  |   PD21   |\n",
      "| PD22      | number |   []  |   PD22   |\n",
      "| PD23      | number |   []  |   PD23   |\n",
      "| PD24      | number |   []  |   PD24   |\n",
      "| PD31      | number |   []  |   PD31   |\n",
      "| PD32      | number |   []  |   PD32   |\n",
      "| PD33      | number |   []  |   PD33   |\n",
      "| PD34      | number |   []  |   PD34   |\n",
      "| PD41      | number |   []  |   PD41   |\n",
      "| PD42      | number |   []  |   PD42   |\n",
      "| PD43      | number |   []  |   PD43   |\n",
      "| PD44      | number |   []  |   PD44   |\n",
      "| PD51      | number |   []  |   PD51   |\n",
      "| PD52      | number |   []  |   PD52   |\n",
      "| SC1       | number |   []  |   SC1    |\n",
      "| SRcur     | number |   []  |  SRcur   |\n",
      "| Seconds   | number |   []  | Seconds  |\n",
      "| TD1       | number |   []  |   TD1    |\n",
      "| TD2       | number |   []  |   TD2    |\n",
      "| TD3       | number |   []  |   TD3    |\n",
      "| TD4       | number |   []  |   TD4    |\n",
      "| TD5       | number |   []  |   TD5    |\n",
      "| TD6       | number |   []  |   TD6    |\n",
      "| Time      | number |   []  |   Time   |\n",
      "+-----------+--------+-------+----------+\n",
      "name            : primary                                 \n",
      "run_start       : 9eb2bcf9-913d-4131-bf4d-de0b371349a3    \n",
      "time            : 1456167266.0                            \n",
      "uid             : 821db274-6dd4-4a1d-9262-2d06b269a611    \n"
     ]
    }
   ],
   "source": [
    "print(db[stream[0][1]].descriptors[0])"
   ]
  },
  {
   "cell_type": "code",
   "execution_count": 14,
   "metadata": {
    "collapsed": false,
    "scrolled": false
   },
   "outputs": [
    {
     "name": "stdout",
     "output_type": "stream",
     "text": [
      "\n",
      "EventDescriptor\n",
      "===============\n",
      "+-----------+--------+-------+-----------+\n",
      "| data keys | dtype  | shape |   source  |\n",
      "+-----------+--------+-------+-----------+\n",
      "| acchi     | number |   []  |  ANA_CChi |\n",
      "| acfth     | number |   []  |  ANA_CFTh |\n",
      "| acth      | number |   []  |  ANA_CThe |\n",
      "| acyy      | number |   []  |   ANA_CY  |\n",
      "| adth      | number |   []  |  ANA_DTH  |\n",
      "| adyy      | number |   []  |  ANA_DYY  |\n",
      "| anay      | number |   []  |   ANA_AY  |\n",
      "| anby      | number |   []  |   ANA_BY  |\n",
      "| andy      | number |   []  |   ANA_DY  |\n",
      "| anpd      | number |   []  |  ANA_PDCW |\n",
      "| anuy      | number |   []  |   ANA_UY  |\n",
      "| awchi     | number |   []  |  ANA_WChi |\n",
      "| awfth     | number |   []  |  ANA_WFTh |\n",
      "| bicd      | number |   []  |    BICD   |\n",
      "| bicu      | number |   []  |    BICU   |\n",
      "| blE       | number |   []  |   BL_EN   |\n",
      "| bpm1_p    | number |   []  |   BPM1_P  |\n",
      "| bpm1dx    | number |   []  |  BPM1_DX  |\n",
      "| bpm1dy    | number |   []  |  BPM1_DY  |\n",
      "| bpm1y     | number |   []  |   BPM1_Y  |\n",
      "| bpm2_p    | number |   []  |   BPM2_P  |\n",
      "| bpm2dx    | number |   []  |  BPM2_DX  |\n",
      "| bpm2dy    | number |   []  |  BPM2_DY  |\n",
      "| bpm2y     | number |   []  |   BPM2_Y  |\n",
      "| chi       | number |   []  |    Chi    |\n",
      "| crlth     | number |   []  |   CRL_Th  |\n",
      "| crlx      | number |   []  |   CRL_X   |\n",
      "| crly      | number |   []  |   CRL_Y   |\n",
      "| d1phi     | number |   []  |   D1_Phi  |\n",
      "| d1the     | number |   []  |   D1_The  |\n",
      "| d2phi     | number |   []  |   D2_Phi  |\n",
      "| d2the     | number |   []  |   D2_The  |\n",
      "| d3phi     | number |   []  |   D3_Phi  |\n",
      "| d3the     | number |   []  |   D3_The  |\n",
      "| d4phi     | number |   []  |   D4_Phi  |\n",
      "| d4the     | number |   []  |   D4_The  |\n",
      "| d5phi     | number |   []  |   D5_Phi  |\n",
      "| d5the     | number |   []  |   D5_The  |\n",
      "| d6phi     | number |   []  |   D6_Phi  |\n",
      "| d6the     | number |   []  |   D6_The  |\n",
      "| dcmE      | number |   []  |   DCM_EN  |\n",
      "| dcmp1     | number |   []  |   DCM_P1  |\n",
      "| dcmpf     | number |   []  |   DCM_PF  |\n",
      "| dcmr2     | number |   []  |   DCM_R2  |\n",
      "| dcmth     | number |   []  |  DCM_The  |\n",
      "| dcmy      | number |   []  |   DCM_Y   |\n",
      "| dcmz2     | number |   []  |   DCM_Z2  |\n",
      "| dfthe     | number |   []  |   D_FThe  |\n",
      "| dphi      | number |   []  |   D_Phi   |\n",
      "| dthe      | number |   []  |   D_The   |\n",
      "| fsb       | number |   []  |  FSlitBot |\n",
      "| fsi       | number |   []  |  FSlitIn  |\n",
      "| fso       | number |   []  |  FSlitOut |\n",
      "| fst       | number |   []  |  FSlitTop |\n",
      "| h         | number |   []  |     h     |\n",
      "| hbs       | number |   []  |   HRM_BS  |\n",
      "| hdch      | number |   []  |  HRM_DChi |\n",
      "| hdif      | number |   []  |  HRM_DIF  |\n",
      "| hdof      | number |   []  |  HRM_DOF  |\n",
      "| hdth      | number |   []  |  HRM_DThe |\n",
      "| hdx       | number |   []  |   HRM_DX  |\n",
      "| hdy       | number |   []  |   HRM_DY  |\n",
      "| hmdb      | number |   []  |  HFM_DSB  |\n",
      "| hmdx      | number |   []  |  HFM_DSX  |\n",
      "| hmdy      | number |   []  |  HFM_DSY  |\n",
      "| hmub      | number |   []  |  HFM_USB  |\n",
      "| hmux      | number |   []  |  HFM_USX  |\n",
      "| hmuy      | number |   []  |  HFM_USY  |\n",
      "| hpd1      | number |   []  |  HRM_PD1  |\n",
      "| hpd2      | number |   []  |  HRM_PD2  |\n",
      "| hpd3      | number |   []  |  HRM_PD3  |\n",
      "| hpd4      | number |   []  |  HRM_PD4  |\n",
      "| hpd5      | number |   []  |  HRM_PD5  |\n",
      "| hrmE      | number |   []  |   HRM_En  |\n",
      "| huch      | number |   []  |  HRM_UChi |\n",
      "| huif      | number |   []  |  HRM_UIF  |\n",
      "| huof      | number |   []  |  HRM_UOF  |\n",
      "| huth      | number |   []  |  HRM_UThe |\n",
      "| hux       | number |   []  |   HRM_UX  |\n",
      "| huy       | number |   []  |   HRM_UY  |\n",
      "| jjb       | number |   []  |    JJB    |\n",
      "| jji       | number |   []  |    JJI    |\n",
      "| jjo       | number |   []  |    JJO    |\n",
      "| jjt       | number |   []  |    JJT    |\n",
      "| k         | number |   []  |     k     |\n",
      "| k3th      | number |   []  |  KOZ3_The |\n",
      "| k3x       | number |   []  |   KOZ3_X  |\n",
      "| k3y       | number |   []  |   KOZ3_Y  |\n",
      "| l         | number |   []  |     l     |\n",
      "| mcmchi    | number |   []  |   MCMCHI  |\n",
      "| mcmphi    | number |   []  |   MCMPHI  |\n",
      "| mcms2i    | number |   []  |   MCMS2I  |\n",
      "| mcms2o    | number |   []  |   MCMS2O  |\n",
      "| mcmsb     | number |   []  |   MCMSB   |\n",
      "| mcmst     | number |   []  |   MCMST   |\n",
      "| mcmthe    | number |   []  |   MCMTHE  |\n",
      "| mcmx      | number |   []  |    MCMX   |\n",
      "| mcmy      | number |   []  |    MCMY   |\n",
      "| mcmz      | number |   []  |    MCMZ   |\n",
      "| pd1       | number |   []  |    PD1    |\n",
      "| pd2       | number |   []  |    PD2    |\n",
      "| phdx      | number |   []  | PinholeDX |\n",
      "| phdy      | number |   []  | PinholeDY |\n",
      "| phi       | number |   []  |    Phi    |\n",
      "| phux      | number |   []  | PinholeUX |\n",
      "| phuy      | number |   []  | PinholeUY |\n",
      "| s1b       | number |   []  |  Slit1Bot |\n",
      "| s1i       | number |   []  |  Slit1In  |\n",
      "| s1o       | number |   []  |  Slit1Out |\n",
      "| s1t       | number |   []  |  Slit1Top |\n",
      "| s2b       | number |   []  |  Slit2Bot |\n",
      "| s2i       | number |   []  |  Slit2In  |\n",
      "| s2o       | number |   []  |  Slit2Out |\n",
      "| s2t       | number |   []  |  Slit2Top |\n",
      "| s3b       | number |   []  |  Slit3Bot |\n",
      "| s3i       | number |   []  |  Slit3In  |\n",
      "| s3o       | number |   []  |  Slit3Out |\n",
      "| s3t       | number |   []  |  Slit3Top |\n",
      "| sanb      | number |   []  |  SAna_Bot |\n",
      "| sant      | number |   []  |  SAna_Top |\n",
      "| ssab      | number |   []  |   SSA_B   |\n",
      "| ssat      | number |   []  |   SSA_T   |\n",
      "| ssx       | number |   []  |  Sample_X |\n",
      "| ssy       | number |   []  |  Sample_Y |\n",
      "| ssz       | number |   []  |  Sample_Z |\n",
      "| stx       | number |   []  |  STower_X |\n",
      "| sty       | number |   []  |  STower_Y |\n",
      "| stz       | number |   []  |  STower_Z |\n",
      "| th        | number |   []  |   Theta   |\n",
      "| tth       | number |   []  | Two Theta |\n",
      "| ugap      | number |   []  |    UGap   |\n",
      "| vmdb      | number |   []  |  VFM_DSB  |\n",
      "| vmdx      | number |   []  |  VFM_DSX  |\n",
      "| vmdy      | number |   []  |  VFM_DSY  |\n",
      "| vmub      | number |   []  |  VFM_USB  |\n",
      "| vmux      | number |   []  |  VFM_USX  |\n",
      "| vmuy      | number |   []  |  VFM_USY  |\n",
      "| wchi      | number |   []  |   W_Chi   |\n",
      "| wfthe     | number |   []  |   W_FThe  |\n",
      "| whl       | number |   []  |   Wheel   |\n",
      "| wthe      | number |   []  |   W_The   |\n",
      "+-----------+--------+-------+-----------+\n",
      "name            : baseline                                \n",
      "run_start       : 9eb2bcf9-913d-4131-bf4d-de0b371349a3    \n",
      "time            : 1456167266.0                            \n",
      "uid             : 71353344-a66b-404a-bf7d-c794f2a7a06c    \n"
     ]
    }
   ],
   "source": [
    "print(db[stream[0][1]].descriptors[1])"
   ]
  },
  {
   "cell_type": "code",
   "execution_count": 15,
   "metadata": {
    "collapsed": false
   },
   "outputs": [
    {
     "name": "stdout",
     "output_type": "stream",
     "text": [
      "\n",
      "RunStop\n",
      "=======\n",
      "exit_status     : success                                 \n",
      "reason          : abort                                   \n",
      "run_start       : 9eb2bcf9-913d-4131-bf4d-de0b371349a3    \n",
      "time            : 1456167266.0                            \n",
      "uid             : 2502b44a-f7cc-4863-a679-6f9d85278697    \n"
     ]
    }
   ],
   "source": [
    "print(db[stream[0][1]].stop)"
   ]
  },
  {
   "cell_type": "code",
   "execution_count": 16,
   "metadata": {
    "collapsed": true
   },
   "outputs": [],
   "source": [
    "mds_teardown()"
   ]
  },
  {
   "cell_type": "code",
   "execution_count": null,
   "metadata": {
    "collapsed": true
   },
   "outputs": [],
   "source": []
  }
 ],
 "metadata": {
  "kernelspec": {
   "display_name": "Python 3",
   "language": "python",
   "name": "python3"
  },
  "language_info": {
   "codemirror_mode": {
    "name": "ipython",
    "version": 3
   },
   "file_extension": ".py",
   "mimetype": "text/x-python",
   "name": "python",
   "nbconvert_exporter": "python",
   "pygments_lexer": "ipython3",
   "version": "3.5.1"
  }
 },
 "nbformat": 4,
 "nbformat_minor": 0
}
